{
 "cells": [
  {
   "cell_type": "code",
   "execution_count": 1,
   "id": "af86e8a2",
   "metadata": {},
   "outputs": [],
   "source": [
    "import pandas as pd\n",
    "import matplotlib.pyplot as plt\n",
    "from sklearn.datasets import make_classification\n",
    "from sklearn.linear_model import LogisticRegression\n",
    "from sklearn.tree import DecisionTreeClassifier\n",
    "from sklearn.model_selection import train_test_split\n",
    "from sklearn.metrics import accuracy_score,confusion_matrix,roc_curve,auc"
   ]
  },
  {
   "cell_type": "code",
   "execution_count": 2,
   "id": "7fb6c15c",
   "metadata": {},
   "outputs": [
    {
     "name": "stdout",
     "output_type": "stream",
     "text": [
      "(5000, 10)\n",
      "(5000,)\n",
      "[[ 1.86419953 -2.3711592  -0.67130759 ... -0.67354431 -0.69646109\n",
      "  -0.07686541]\n",
      " [ 0.33548674  0.27130442 -2.02015145 ...  0.31740948  0.38546963\n",
      "   0.13372972]\n",
      " [ 0.14663259 -1.54427911  0.59252101 ... -0.20558104 -1.03009508\n",
      "  -0.65817527]\n",
      " ...\n",
      " [-1.06725502  1.3232629   0.40885419 ... -0.03644982 -1.3116659\n",
      "  -2.0157712 ]\n",
      " [ 1.21249094 -1.28557149 -0.81813422 ... -1.84190565  0.39546944\n",
      "  -1.16454678]\n",
      " [ 0.02000132 -1.05592707  1.88566879 ... -1.8550231   0.17599725\n",
      "  -0.36139164]]\n"
     ]
    }
   ],
   "source": [
    "##### Generate synthatic Data -\n",
    "x,y = make_classification(n_samples=5000,n_features=10,n_classes=2,random_state=42)\n",
    "print(x.shape)\n",
    "print(y.shape)\n",
    "print(x)"
   ]
  },
  {
   "cell_type": "code",
   "execution_count": 3,
   "id": "6c3b2a52",
   "metadata": {},
   "outputs": [],
   "source": [
    "##### Train test split\n",
    "x_train,x_test,y_train,y_test = train_test_split(x,y,test_size=0.2,random_state=123)"
   ]
  },
  {
   "cell_type": "code",
   "execution_count": 4,
   "id": "7a6d2a8f",
   "metadata": {},
   "outputs": [
    {
     "data": {
      "text/plain": [
       "(4000, 10)"
      ]
     },
     "execution_count": 4,
     "metadata": {},
     "output_type": "execute_result"
    }
   ],
   "source": [
    "x_train.shape"
   ]
  },
  {
   "cell_type": "code",
   "execution_count": 5,
   "id": "f14bae78",
   "metadata": {},
   "outputs": [
    {
     "data": {
      "text/plain": [
       "(4000,)"
      ]
     },
     "execution_count": 5,
     "metadata": {},
     "output_type": "execute_result"
    }
   ],
   "source": [
    "y_train.shape"
   ]
  },
  {
   "cell_type": "code",
   "execution_count": 6,
   "id": "077d3449",
   "metadata": {},
   "outputs": [
    {
     "name": "stdout",
     "output_type": "stream",
     "text": [
      "Training the Model\n"
     ]
    }
   ],
   "source": [
    "###### two diffrent method to modeling\n",
    "logistic_model = LogisticRegression(random_state=1234)\n",
    "logistic_model.fit(x_train,y_train)\n",
    "\n",
    "decisiontree_model = DecisionTreeClassifier(criterion= \"entropy\",random_state=1234)\n",
    "decisiontree_model.fit(x_train,y_train)\n",
    "\n",
    "print(\"Training the Model\")"
   ]
  },
  {
   "cell_type": "code",
   "execution_count": 18,
   "id": "bee6c178",
   "metadata": {},
   "outputs": [],
   "source": [
    "###### predictioned by matrix\n",
    "y_pred_logistic = logistic_model.predict(x_test)\n",
    "y_pred_ds = decisiontree_model.predict(x_test)"
   ]
  },
  {
   "cell_type": "code",
   "execution_count": 21,
   "id": "29dba66f",
   "metadata": {},
   "outputs": [
    {
     "data": {
      "text/plain": [
       "array([[438,  60],\n",
       "       [ 64, 438]], dtype=int64)"
      ]
     },
     "execution_count": 21,
     "metadata": {},
     "output_type": "execute_result"
    }
   ],
   "source": [
    "confusion_matrix(y_test,y_pred_logistic) ### checking the accuracy testing data by confusion matrix"
   ]
  },
  {
   "cell_type": "code",
   "execution_count": 22,
   "id": "921de60f",
   "metadata": {},
   "outputs": [
    {
     "data": {
      "text/plain": [
       "0.876"
      ]
     },
     "execution_count": 22,
     "metadata": {},
     "output_type": "execute_result"
    }
   ],
   "source": [
    "accuracy_score(y_test,y_pred_logistic)"
   ]
  },
  {
   "cell_type": "code",
   "execution_count": 23,
   "id": "d75ecc79",
   "metadata": {},
   "outputs": [
    {
     "data": {
      "text/plain": [
       "array([[441,  57],\n",
       "       [ 77, 425]], dtype=int64)"
      ]
     },
     "execution_count": 23,
     "metadata": {},
     "output_type": "execute_result"
    }
   ],
   "source": [
    "confusion_matrix(y_test,y_pred_ds)"
   ]
  },
  {
   "cell_type": "code",
   "execution_count": 24,
   "id": "81e6ad3e",
   "metadata": {},
   "outputs": [
    {
     "data": {
      "text/plain": [
       "0.866"
      ]
     },
     "execution_count": 24,
     "metadata": {},
     "output_type": "execute_result"
    }
   ],
   "source": [
    "accuracy_score(y_test,y_pred_ds)"
   ]
  },
  {
   "cell_type": "code",
   "execution_count": 7,
   "id": "205169cf",
   "metadata": {},
   "outputs": [],
   "source": [
    "###### predictioned by AUC_ROC curve\n",
    "y_pred_logistic = logistic_model.predict_proba(x_test)[:,1]\n",
    "y_pred_ds = decisiontree_model.predict_proba(x_test)[:,1]"
   ]
  },
  {
   "cell_type": "code",
   "execution_count": 8,
   "id": "d89b535f",
   "metadata": {},
   "outputs": [
    {
     "data": {
      "text/html": [
       "<div>\n",
       "<style scoped>\n",
       "    .dataframe tbody tr th:only-of-type {\n",
       "        vertical-align: middle;\n",
       "    }\n",
       "\n",
       "    .dataframe tbody tr th {\n",
       "        vertical-align: top;\n",
       "    }\n",
       "\n",
       "    .dataframe thead th {\n",
       "        text-align: right;\n",
       "    }\n",
       "</style>\n",
       "<table border=\"1\" class=\"dataframe\">\n",
       "  <thead>\n",
       "    <tr style=\"text-align: right;\">\n",
       "      <th></th>\n",
       "      <th>Actual</th>\n",
       "      <th>Logistic</th>\n",
       "      <th>decision_Tree</th>\n",
       "    </tr>\n",
       "  </thead>\n",
       "  <tbody>\n",
       "    <tr>\n",
       "      <th>0</th>\n",
       "      <td>1</td>\n",
       "      <td>0.666400</td>\n",
       "      <td>1.0</td>\n",
       "    </tr>\n",
       "    <tr>\n",
       "      <th>1</th>\n",
       "      <td>0</td>\n",
       "      <td>0.024260</td>\n",
       "      <td>0.0</td>\n",
       "    </tr>\n",
       "    <tr>\n",
       "      <th>2</th>\n",
       "      <td>0</td>\n",
       "      <td>0.276567</td>\n",
       "      <td>1.0</td>\n",
       "    </tr>\n",
       "    <tr>\n",
       "      <th>3</th>\n",
       "      <td>0</td>\n",
       "      <td>0.171618</td>\n",
       "      <td>0.0</td>\n",
       "    </tr>\n",
       "    <tr>\n",
       "      <th>4</th>\n",
       "      <td>1</td>\n",
       "      <td>0.994985</td>\n",
       "      <td>1.0</td>\n",
       "    </tr>\n",
       "    <tr>\n",
       "      <th>...</th>\n",
       "      <td>...</td>\n",
       "      <td>...</td>\n",
       "      <td>...</td>\n",
       "    </tr>\n",
       "    <tr>\n",
       "      <th>995</th>\n",
       "      <td>0</td>\n",
       "      <td>0.434311</td>\n",
       "      <td>0.0</td>\n",
       "    </tr>\n",
       "    <tr>\n",
       "      <th>996</th>\n",
       "      <td>1</td>\n",
       "      <td>0.328866</td>\n",
       "      <td>0.0</td>\n",
       "    </tr>\n",
       "    <tr>\n",
       "      <th>997</th>\n",
       "      <td>1</td>\n",
       "      <td>0.989591</td>\n",
       "      <td>1.0</td>\n",
       "    </tr>\n",
       "    <tr>\n",
       "      <th>998</th>\n",
       "      <td>1</td>\n",
       "      <td>0.973410</td>\n",
       "      <td>1.0</td>\n",
       "    </tr>\n",
       "    <tr>\n",
       "      <th>999</th>\n",
       "      <td>1</td>\n",
       "      <td>0.871536</td>\n",
       "      <td>1.0</td>\n",
       "    </tr>\n",
       "  </tbody>\n",
       "</table>\n",
       "<p>1000 rows × 3 columns</p>\n",
       "</div>"
      ],
      "text/plain": [
       "     Actual  Logistic  decision_Tree\n",
       "0         1  0.666400            1.0\n",
       "1         0  0.024260            0.0\n",
       "2         0  0.276567            1.0\n",
       "3         0  0.171618            0.0\n",
       "4         1  0.994985            1.0\n",
       "..      ...       ...            ...\n",
       "995       0  0.434311            0.0\n",
       "996       1  0.328866            0.0\n",
       "997       1  0.989591            1.0\n",
       "998       1  0.973410            1.0\n",
       "999       1  0.871536            1.0\n",
       "\n",
       "[1000 rows x 3 columns]"
      ]
     },
     "execution_count": 8,
     "metadata": {},
     "output_type": "execute_result"
    }
   ],
   "source": [
    "##### create a dataframe\n",
    "test_df = pd.DataFrame({\"Actual\": y_test, \"Logistic\":y_pred_logistic, \"decision_Tree\": y_pred_ds})\n",
    "test_df"
   ]
  },
  {
   "cell_type": "code",
   "execution_count": 17,
   "id": "38e752ad",
   "metadata": {},
   "outputs": [
    {
     "name": "stdout",
     "output_type": "stream",
     "text": [
      "Logistic\n",
      "0.9396470343525496\n",
      "decision_Tree\n",
      "0.866077857245716\n"
     ]
    }
   ],
   "source": [
    "for model in [\"Logistic\",\"decision_Tree\"]:\n",
    "    fpr,tpr,thresh = roc_curve(test_df[\"Actual\"],test_df[model])\n",
    "    print(model)\n",
    "    roc_auc = auc(fpr,tpr)\n",
    "    print(roc_auc)"
   ]
  },
  {
   "cell_type": "code",
   "execution_count": 16,
   "id": "f998a629",
   "metadata": {},
   "outputs": [
    {
     "data": {
      "image/png": "[encoded data removed]",
      "text/plain": [
       "<Figure size 640x480 with 1 Axes>"
      ]
     },
     "metadata": {},
     "output_type": "display_data"
    },
    {
     "data": {
      "image/png": "[encoded data removed]",
      "text/plain": [
       "<Figure size 640x480 with 1 Axes>"
      ]
     },
     "metadata": {},
     "output_type": "display_data"
    }
   ],
   "source": [
    "for model in [\"Logistic\",\"decision_Tree\"]:\n",
    "    fpr,tpr,thresh = roc_curve(test_df[\"Actual\"],test_df[model])\n",
    "    roc_auc = auc(fpr,tpr)\n",
    "    plt.plot(fpr,tpr,label = f'{model}')\n",
    "    plt.plot([0,1],[0,1],\"r--\",label = \"Random\")\n",
    "    plt.legend()\n",
    "    plt.show()"
   ]
  },
  {
   "cell_type": "code",
   "execution_count": null,
   "id": "24a324ec",
   "metadata": {},
   "outputs": [],
   "source": []
  },
  {
   "cell_type": "code",
   "execution_count": null,
   "id": "b8baca7f",
   "metadata": {},
   "outputs": [],
   "source": []
  }
 ],
 "metadata": {
  "kernelspec": {
   "display_name": "Python 3 (ipykernel)",
   "language": "python",
   "name": "python3"
  },
  "language_info": {
   "codemirror_mode": {
    "name": "ipython",
    "version": 3
   },
   "file_extension": ".py",
   "mimetype": "text/x-python",
   "name": "python",
   "nbconvert_exporter": "python",
   "pygments_lexer": "ipython3",
   "version": "3.11.4"
  }
 },
 "nbformat": 4,
 "nbformat_minor": 5
}
